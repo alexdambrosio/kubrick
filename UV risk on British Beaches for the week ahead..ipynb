{
 "cells": [
  {
   "cell_type": "code",
   "execution_count": null,
   "metadata": {},
   "outputs": [],
   "source": [
    "import json\n",
    "from pprint import pprint\n",
    "import urllib.request\n",
    "import re\n",
    "import datetime"
   ]
  },
  {
   "cell_type": "code",
   "execution_count": null,
   "metadata": {},
   "outputs": [],
   "source": [
    "url = 'http://datapoint.metoffice.gov.uk/public/data/val/wxfcs/all/json/sitelist?key=3f7c1013-95ee-48ce-b8b1-bc5a8932a350'"
   ]
  },
  {
   "cell_type": "code",
   "execution_count": null,
   "metadata": {},
   "outputs": [],
   "source": [
    "req = urllib.request.Request(url = url)"
   ]
  },
  {
   "cell_type": "code",
   "execution_count": null,
   "metadata": {},
   "outputs": [],
   "source": [
    "go = urllib.request.urlopen(req)"
   ]
  },
  {
   "cell_type": "code",
   "execution_count": null,
   "metadata": {},
   "outputs": [],
   "source": [
    "r = go.read().decode('utf-8')"
   ]
  },
  {
   "cell_type": "code",
   "execution_count": null,
   "metadata": {},
   "outputs": [],
   "source": [
    "rd = json.loads(r)"
   ]
  },
  {
   "cell_type": "code",
   "execution_count": null,
   "metadata": {},
   "outputs": [],
   "source": [
    "beachlocations = {}\n",
    "\n",
    "for i in rd['Locations']['Location']:\n",
    "    if 'Beach' in i['name']:\n",
    "        beachlocations[i['name']] = i['id']"
   ]
  },
  {
   "cell_type": "code",
   "execution_count": null,
   "metadata": {},
   "outputs": [],
   "source": [
    "beach_id = list(beachlocations.values())"
   ]
  },
  {
   "cell_type": "code",
   "execution_count": null,
   "metadata": {},
   "outputs": [],
   "source": [
    "type(beach_id)"
   ]
  },
  {
   "cell_type": "code",
   "execution_count": null,
   "metadata": {},
   "outputs": [],
   "source": [
    "listofurls = []\n",
    "\n",
    "for ids in beachlocations.values():\n",
    "    l = 'http://datapoint.metoffice.gov.uk/public/data/val/wxfcs/all/json/{a}?res=daily&key=4e38a9ec-5654-417b-9e43-afa4873e6416'.format(a=ids)\n",
    "    listofurls.append(l)"
   ]
  },
  {
   "cell_type": "code",
   "execution_count": null,
   "metadata": {},
   "outputs": [],
   "source": [
    "listofurls[1]"
   ]
  },
  {
   "cell_type": "code",
   "execution_count": null,
   "metadata": {},
   "outputs": [],
   "source": [
    "pprint(beachlocations)"
   ]
  },
  {
   "cell_type": "code",
   "execution_count": null,
   "metadata": {},
   "outputs": [],
   "source": [
    "url2=listofurls[0]\n",
    "req2 = urllib.request.Request(url = url2)\n",
    "go2 = urllib.request.urlopen(req2)\n",
    "r2 = go2.read().decode('utf-8')\n",
    "rd2 = json.loads(r2)"
   ]
  },
  {
   "cell_type": "code",
   "execution_count": null,
   "metadata": {},
   "outputs": [],
   "source": [
    "name = []\n",
    "uv = []\n",
    "i_d = []\n",
    "date = []\n",
    "\n",
    "for url2 in listofurls:\n",
    "    req2 = urllib.request.Request(url = url2)\n",
    "    go2 = urllib.request.urlopen(req2)\n",
    "    r2 = go2.read().decode('utf-8')\n",
    "    rd2 = json.loads(r2)\n",
    "    \n",
    "    for i in range(5):\n",
    "        uv.append(rd2['SiteRep']['DV']['Location']['Period'][i]['Rep'][0]['U'])\n",
    "        name.append(rd2['SiteRep']['DV']['Location']['name'])\n",
    "        date.append(rd2['SiteRep']['DV']['Location']['Period'][i]['value'][0:10])\n",
    "        i_d.append(rd2['SiteRep']['DV']['Location']['i'])\n",
    "\n",
    "#print(name)        \n",
    "z = zip(i_d, name, date, uv)\n",
    "for i in z:\n",
    "    print(i)"
   ]
  },
  {
   "cell_type": "code",
   "execution_count": null,
   "metadata": {},
   "outputs": [],
   "source": [
    "import pickle \n",
    "with open(r'C:\\python_projects\\pickles\\uvtask.pkl', 'wb') as pkl:   #name of the pickle is objs. wb = write binary(not readable by human)\n",
    "    pickle.dump(i, pkl)"
   ]
  }
 ],
 "metadata": {
  "kernelspec": {
   "display_name": "Python 3",
   "language": "python",
   "name": "python3"
  },
  "language_info": {
   "codemirror_mode": {
    "name": "ipython",
    "version": 3
   },
   "file_extension": ".py",
   "mimetype": "text/x-python",
   "name": "python",
   "nbconvert_exporter": "python",
   "pygments_lexer": "ipython3",
   "version": "3.6.5"
  }
 },
 "nbformat": 4,
 "nbformat_minor": 2
}
